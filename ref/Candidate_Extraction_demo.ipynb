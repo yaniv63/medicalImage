{
 "cells": [
  {
   "cell_type": "code",
   "execution_count": null,
   "metadata": {
    "collapsed": true
   },
   "outputs": [],
   "source": [
    "import numpy as np\n",
    "import pylab\n",
    "import scipy.ndimage.morphology as mrph\n",
    "import scipy.ndimage as ndimage\n",
    "import scipy.io\n",
    "\n",
    "import scipy.misc"
   ]
  },
  {
   "cell_type": "code",
   "execution_count": 8,
   "metadata": {
    "collapsed": true
   },
   "outputs": [],
   "source": [
    "# thresholds\n",
    "FLAIR_th = 0.91\n",
    "WM_prior_th = 0.5"
   ]
  },
  {
   "cell_type": "code",
   "execution_count": 9,
   "metadata": {
    "collapsed": true
   },
   "outputs": [],
   "source": [
    "FLAIR_vol_filename = r\"D:\\thesis\\MS_data\\Goldberger\\volumes\\train\\data\\Person01_Time01_FLAIR.npy\"\n",
    "WM_filename = r\"D:\\thesis\\MS_data\\Goldberger\\volumes\\train\\WM\\Person01_Time01.npy\""
   ]
  },
  {
   "cell_type": "code",
   "execution_count": 10,
   "metadata": {
    "collapsed": true
   },
   "outputs": [],
   "source": [
    "def binary_disk(r):\n",
    "    arr = np.ones((2*r+1,2*r+1,2*r+1))\n",
    "    arr[r,r,r] = 0\n",
    "\n",
    "    dt = mrph.distance_transform_bf(arr,metric='euclidean')\n",
    "    disk = dt<=r\n",
    "    disk = disk.astype('float32')\n",
    "\n",
    "    return disk"
   ]
  },
  {
   "cell_type": "code",
   "execution_count": 11,
   "metadata": {
    "collapsed": false
   },
   "outputs": [],
   "source": [
    "FLAIR_vol = np.load(vol_filename)\n",
    "WM = np.load(WM_filename)\n",
    "\n",
    "# dilate WM mask\n",
    "sel = binary_disk(2)\n",
    "WM_dilated = mrph.filters.maximum_filter(WM, footprint=sel)\n",
    "\n",
    "# apply thresholds\n",
    "FLAIR_mask = FLAIR_vol > FLAIR_th\n",
    "WM_mask = WM_dilated > WM_prior_th\n",
    "\n",
    "# final mask: logical AND\n",
    "candidate_mask = np.logical_and(FLAIR_mask, WM_mask)"
   ]
  },
  {
   "cell_type": "code",
   "execution_count": 15,
   "metadata": {
    "collapsed": false
   },
   "outputs": [
    {
     "data": {
      "text/plain": [
       "<matplotlib.image.AxesImage at 0x249d7c50>"
      ]
     },
     "execution_count": 15,
     "metadata": {},
     "output_type": "execute_result"
    }
   ],
   "source": [
    "# display resulted mask\n",
    "%matplotlib qt\n",
    "\n",
    "import matplotlib\n",
    "import pylab\n",
    "\n",
    "z = 90\n",
    "pylab.figure()\n",
    "pylab.imshow(FLAIR_vol[z,:,:], cmap=matplotlib.cm.gray)\n",
    "pylab.figure()\n",
    "pylab.imshow(WM_dilated[z,:,:], cmap=matplotlib.cm.gray)\n",
    "pylab.figure()\n",
    "pylab.imshow(candidate_mask[z,:,:], cmap=matplotlib.cm.gray)"
   ]
  },
  {
   "cell_type": "code",
   "execution_count": null,
   "metadata": {
    "collapsed": true
   },
   "outputs": [],
   "source": [
    ""
   ]
  }
 ],
 "metadata": {
  "kernelspec": {
   "display_name": "Python 2",
   "language": "python",
   "name": "python2"
  },
  "language_info": {
   "codemirror_mode": {
    "name": "ipython",
    "version": 2.0
   },
   "file_extension": ".py",
   "mimetype": "text/x-python",
   "name": "python",
   "nbconvert_exporter": "python",
   "pygments_lexer": "ipython2",
   "version": "2.7.10"
  }
 },
 "nbformat": 4,
 "nbformat_minor": 0
}