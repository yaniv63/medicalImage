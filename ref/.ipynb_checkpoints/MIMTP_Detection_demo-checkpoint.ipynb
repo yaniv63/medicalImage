{
 "cells": [
  {
   "cell_type": "code",
   "execution_count": null,
   "metadata": {
    "collapsed": false
   },
   "outputs": [],
   "source": [
    "import os\n",
    "import numpy as np\n",
    "from keras.utils import np_utils"
   ]
  },
  {
   "cell_type": "code",
   "execution_count": null,
   "metadata": {
    "collapsed": false
   },
   "outputs": [],
   "source": [
    "# init keras\n",
    "from keras.models import Sequential, Graph\n",
    "from keras.layers.core import Dense, Dropout, Activation, Flatten, Merge\n",
    "from keras.layers.convolutional import Convolution2D, MaxPooling2D\n",
    "from keras.layers.advanced_activations import LeakyReLU\n",
    "from keras.callbacks import *\n",
    "from keras.preprocessing.image import ImageDataGenerator"
   ]
  },
  {
   "cell_type": "code",
   "execution_count": null,
   "metadata": {
    "collapsed": false
   },
   "outputs": [],
   "source": [
    "# parameters\n",
    "img_rows, img_cols = 32, 32\n",
    "img_channels = 3\n",
    "nb_classes = 2\n",
    "MR_modalities = ['FLAIR', 'T2', 'MPRAGE', 'PD']\n",
    "N_mod = len(MR_modalities)\n",
    "\n",
    "# data\n",
    "model_weights = r\"/home/yaniv/src/medicalImaging/ref/MIMTP_model_weights.h5\"\n",
    "sample_patches_filename = r\"/home/yaniv/src/medicalImaging/ref/sample_patches.npz\""
   ]
  },
  {
   "cell_type": "code",
   "execution_count": null,
   "metadata": {
    "collapsed": true
   },
   "outputs": [],
   "source": [
    "def create_smodel():\n",
    "    smodel = Sequential()\n",
    "\n",
    "    # 1x32x32 -> 24x14x14\n",
    "    smodel.add(Convolution2D(24, 5, 5,\n",
    "                             input_shape=(N_mod, img_rows, img_cols))) # 1x32x32 -> 24x28x28\n",
    "    smodel.add(LeakyReLU())\n",
    "    smodel.add(MaxPooling2D(pool_size=(2, 2)))                     # 24x28x28 -> 24x14x14\n",
    "    smodel.add(Dropout(0.25))\n",
    "\n",
    "    # 24x14x14 -> 32x6x6\n",
    "    smodel.add(Convolution2D(32, 3, 3)) # 24x14x14 -> 32x12x12\n",
    "    smodel.add(LeakyReLU())\n",
    "    smodel.add(MaxPooling2D(pool_size=(2, 2)))                     # 32x12x12 -> 32x6x6\n",
    "    smodel.add(Dropout(0.25))\n",
    "\n",
    "    # 32x6x6 -> 48x4x4\n",
    "    smodel.add(Convolution2D(48, 3, 3))\n",
    "    smodel.add(LeakyReLU())\n",
    "    smodel.add(Dropout(0.25))\n",
    "    \n",
    "    return smodel"
   ]
  },
  {
   "cell_type": "code",
   "execution_count": null,
   "metadata": {
    "collapsed": true
   },
   "outputs": [],
   "source": [
    "def create_slice_model():\n",
    "    slice_model = Sequential()\n",
    "    \n",
    "    slice_model.add(Convolution2D(48, 1, 1, input_shape=(96,4,4)))\n",
    "    slice_model.add(LeakyReLU())\n",
    "    slice_model.add(Dropout(0.25))\n",
    "    \n",
    "    # output is a flat vector\n",
    "    slice_model.add(Flatten())\n",
    "    slice_model.add(Dense(16))\n",
    "    slice_model.add(LeakyReLU())\n",
    "    slice_model.add(Dropout(0.25))\n",
    "    \n",
    "    return slice_model"
   ]
  },
  {
   "cell_type": "code",
   "execution_count": null,
   "metadata": {
    "collapsed": true
   },
   "outputs": [],
   "source": [
    "def create_full_model():\n",
    "    graph = Graph()\n",
    "    slice_model_node_list = []\n",
    "    \n",
    "    for ch in range(img_channels):\n",
    "        # basic model for a single slice image\n",
    "        s_curr_model = create_smodel()\n",
    "        s_prev_model = create_smodel()\n",
    "        \n",
    "        # combining current and previous image\n",
    "        s_model = create_slice_model()\n",
    "        \n",
    "        # add to graph\n",
    "        graph.add_input(name='s%d_curr'%(ch), input_shape=(N_mod,32,32))\n",
    "        graph.add_input(name='s%d_prev'%(ch), input_shape=(N_mod,32,32))\n",
    "        graph.add_node(s_curr_model, name='s%d_curr_model_node'%(ch), input='s%d_curr'%(ch))\n",
    "        graph.add_node(s_prev_model, name='s%d_prev_model_node'%(ch), input='s%d_prev'%(ch))\n",
    "        graph.add_node(layer=s_model, name='s%d'%(ch), inputs=['s%d_curr_model_node'%(ch), 's%d_prev_model_node'%(ch)], \n",
    "                       merge_mode='concat', concat_axis=1)\n",
    "        \n",
    "        slice_model_node_list.append('s%d'%(ch))\n",
    "    \n",
    "\n",
    "    # merge slices\n",
    "    graph.add_node(layer=Dense(16), name='slices_Dense', inputs=slice_model_node_list)\n",
    "    graph.add_node(layer=Dropout(0.25), name='slices_Dense_Dropout', input='slices_Dense')\n",
    "    graph.add_node(layer=Dense(nb_classes, activation='softmax'), name='slices_out', input='slices_Dense_Dropout')\n",
    "    graph.add_output(name='output', input='slices_out')\n",
    "    \n",
    "    return graph"
   ]
  },
  {
   "cell_type": "code",
   "execution_count": null,
   "metadata": {
    "collapsed": false
   },
   "outputs": [],
   "source": [
    "# init net structure\n",
    "model = create_full_model()\n",
    "# load net weights\n",
    "model.load_weights(model_weights)\n",
    "\n",
    "# compile net\n",
    "model.compile(optimizer='adadelta', loss={'output':'categorical_crossentropy'})"
   ]
  },
  {
   "cell_type": "code",
   "execution_count": null,
   "metadata": {
    "collapsed": false
   },
   "outputs": [],
   "source": [
    "# load sample patches\n",
    "Npz = np.load(sample_patches_filename)\n",
    "pos_curr = Npz['IPosCurr']\n",
    "pos_prev = Npz['IPosPrev']\n",
    "neg_curr = Npz['INegCurr']\n",
    "neg_prev = Npz['INegPrev']\n",
    "\n",
    "print('samples x channels x width x height x views = ')\n",
    "print(pos_curr.shape)"
   ]
  },
  {
   "cell_type": "code",
   "execution_count": null,
   "metadata": {
    "collapsed": false
   },
   "outputs": [],
   "source": [
    "# predict positive patches\n",
    "Sp = model.predict({'s0_curr':pos_curr[:,:,:,:,0], 's0_prev':pos_prev[:,:,:,:,0], \n",
    "                   's1_curr':pos_curr[:,:,:,:,1], 's1_prev':pos_prev[:,:,:,:,1],\n",
    "                   's2_curr':pos_curr[:,:,:,:,2], 's2_prev':pos_prev[:,:,:,:,2]})\n",
    "\n",
    "Sp = Sp['output'][:,1]\n",
    "\n",
    "# display scores\n",
    "print(Sp)"
   ]
  },
  {
   "cell_type": "code",
   "execution_count": null,
   "metadata": {
    "collapsed": false
   },
   "outputs": [],
   "source": [
    "# predict negative patches\n",
    "Sn = model.predict({'s0_curr':neg_curr[:,:,:,:,0], 's0_prev':neg_prev[:,:,:,:,0], \n",
    "                   's1_curr':neg_curr[:,:,:,:,1], 's1_prev':neg_prev[:,:,:,:,1],\n",
    "                   's2_curr':neg_curr[:,:,:,:,2], 's2_prev':neg_prev[:,:,:,:,2]})\n",
    "\n",
    "Sn = Sn['output'][:,1]\n",
    "\n",
    "# display scores\n",
    "print(Sn)"
   ]
  },
  {
   "cell_type": "code",
   "execution_count": null,
   "metadata": {
    "collapsed": true
   },
   "outputs": [],
   "source": []
  }
 ],
 "metadata": {
  "kernelspec": {
   "display_name": "Python 2",
   "language": "python",
   "name": "python2"
  },
  "language_info": {
   "codemirror_mode": {
    "name": "ipython",
    "version": 2
   },
   "file_extension": ".py",
   "mimetype": "text/x-python",
   "name": "python",
   "nbconvert_exporter": "python",
   "pygments_lexer": "ipython2",
   "version": "2.7.12"
  }
 },
 "nbformat": 4,
 "nbformat_minor": 0
}
