{
 "cells": [
  {
   "cell_type": "code",
   "execution_count": 2,
   "metadata": {
    "collapsed": false
   },
   "outputs": [],
   "source": [
    "%matplotlib qt\n",
    "\n",
    "import matplotlib\n",
    "import pylab\n",
    "import numpy as np\n",
    "from scipy.interpolate import RegularGridInterpolator"
   ]
  },
  {
   "cell_type": "code",
   "execution_count": 29,
   "metadata": {
    "collapsed": true
   },
   "outputs": [],
   "source": [
    "def extract_axial(interp3, xc, yc, zc, sz, w):\n",
    "    x = np.arange(xc-w+0.5, xc+w+0.5, 1)\n",
    "    y = np.arange(yc+w+0.5, yc-w+0.5, -1)\n",
    "\n",
    "    # axial patch voxels\n",
    "    xx, yy = np.meshgrid(x, y)\n",
    "    xx = xx.reshape((xx.shape[0]*xx.shape[1],1))\n",
    "    yy = yy.reshape((yy.shape[0]*yy.shape[1],1))\n",
    "    zz = zc*np.ones(xx.shape)\n",
    "    pts = np.concatenate((zz,yy,xx),axis=1)\n",
    "\n",
    "    # interpolate\n",
    "    p_axial = interp3(pts)\n",
    "    p_axial = p_axial.reshape((sz,sz))\n",
    "    \n",
    "    return p_axial"
   ]
  },
  {
   "cell_type": "code",
   "execution_count": 30,
   "metadata": {
    "collapsed": true
   },
   "outputs": [],
   "source": [
    "def extract_coronal(interp3, xc, yc, zc, sz, w):\n",
    "    x = np.arange(xc-w+0.5, xc+w+0.5, 1)\n",
    "    z = np.arange(zc-w+0.5, zc+w+0.5, 1)\n",
    "\n",
    "    # coronal patch voxels\n",
    "    xx, zz = np.meshgrid(x, z)\n",
    "    xx = xx.reshape((xx.shape[0]*xx.shape[1],1))\n",
    "    zz = zz.reshape((zz.shape[0]*zz.shape[1],1))\n",
    "    yy = yc*np.ones(xx.shape)\n",
    "    pts = np.concatenate((zz,yy,xx),axis=1)\n",
    "\n",
    "    # interpolate\n",
    "    p_coronal = interp3(pts)\n",
    "    p_coronal = p_coronal.reshape((sz,sz))\n",
    "    \n",
    "    return p_coronal"
   ]
  },
  {
   "cell_type": "code",
   "execution_count": 31,
   "metadata": {
    "collapsed": true
   },
   "outputs": [],
   "source": [
    "def extract_sagittal(interp3, xc, yc, zc, sz, w):\n",
    "    y = np.arange(yc+w+0.5, yc-w+0.5, -1)\n",
    "    z = np.arange(zc+w+0.5, zc-w+0.5, -1)\n",
    "    \n",
    "    # sagittal patch voxels\n",
    "    zz, yy = np.meshgrid(z, y)\n",
    "    yy = yy.reshape((yy.shape[0]*yy.shape[1],1))\n",
    "    zz = zz.reshape((zz.shape[0]*zz.shape[1],1))\n",
    "    xx = xc*np.ones(yy.shape)\n",
    "    pts = np.concatenate((zz,yy,xx),axis=1)\n",
    "\n",
    "    # interpolate\n",
    "    p_sagittal = interp3(pts)\n",
    "    p_sagittal = p_sagittal.reshape((sz,sz))\n",
    "    \n",
    "    return p_sagittal"
   ]
  },
  {
   "cell_type": "code",
   "execution_count": 57,
   "metadata": {
    "collapsed": true
   },
   "outputs": [],
   "source": [
    "# patch size\n",
    "sz = 32\n",
    "w = sz/2\n",
    "\n",
    "# patch center\n",
    "xc = 51 #74\n",
    "yc = 86 #145\n",
    "zc = 100"
   ]
  },
  {
   "cell_type": "code",
   "execution_count": 58,
   "metadata": {
    "collapsed": false
   },
   "outputs": [
    {
     "data": {
      "text/plain": [
       "(181, 217, 181)"
      ]
     },
     "execution_count": 58,
     "metadata": {},
     "output_type": "execute_result"
    }
   ],
   "source": [
    "# load volume\n",
    "FLAIR_filename = r\"/media/sf_shared/src/medicalImaging/train/data/Person03_Time01_FLAIR.npy\"\n",
    "vol = np.load(FLAIR_filename)\n",
    "vol.shape"
   ]
  },
  {
   "cell_type": "code",
   "execution_count": 59,
   "metadata": {
    "collapsed": true
   },
   "outputs": [],
   "source": [
    "# initialize interpolator\n",
    "x = np.linspace(0, vol.shape[2]-1,vol.shape[2])\n",
    "y = np.linspace(0, vol.shape[1]-1,vol.shape[1])\n",
    "z = np.linspace(0, vol.shape[0]-1,vol.shape[0])\n",
    "interp3 = RegularGridInterpolator((z,y,x), vol,method='nearest')"
   ]
  },
  {
   "cell_type": "code",
   "execution_count": 60,
   "metadata": {
    "collapsed": false
   },
   "outputs": [],
   "source": [
    "# extract patches\n",
    "p_axial = extract_axial(interp3, xc, yc, zc, sz, w)\n",
    "p_coronal = extract_coronal(interp3, xc, yc, zc, sz, w)\n",
    "p_sagittal = extract_sagittal(interp3, xc, yc, zc, sz, w)\n",
    "p_sagittal = np.fliplr(p_sagittal)\n",
    "p_sagittal = np.rot90(p_sagittal,3)\n",
    "p_axial = np.flipud(p_axial)"
   ]
  },
  {
   "cell_type": "code",
   "execution_count": 63,
   "metadata": {
    "collapsed": false
   },
   "outputs": [
    {
     "data": {
      "text/plain": [
       "<matplotlib.image.AxesImage at 0x7fcf9c613c50>"
      ]
     },
     "execution_count": 63,
     "metadata": {},
     "output_type": "execute_result"
    }
   ],
   "source": [
    "# display full slices\n",
    "\n",
    "# axial\n",
    "pylab.figure()\n",
    "pylab.imshow(vol[zc,:,:], cmap=matplotlib.cm.gray, interpolation='nearest')\n",
    "\n",
    "# coronal\n",
    "pylab.figure()\n",
    "pylab.imshow(vol[:,yc,:], cmap=matplotlib.cm.gray, interpolation='nearest')\n",
    "\n",
    "# sagittal\n",
    "pylab.figure()\n",
    "pylab.imshow(vol[:,:,xc], cmap=matplotlib.cm.gray, interpolation='nearest')"
   ]
  },
  {
   "cell_type": "code",
   "execution_count": 64,
   "metadata": {
    "collapsed": false
   },
   "outputs": [
    {
     "data": {
      "text/plain": [
       "<matplotlib.image.AxesImage at 0x7fcf9ca8fd90>"
      ]
     },
     "execution_count": 64,
     "metadata": {},
     "output_type": "execute_result"
    }
   ],
   "source": [
    "# display patches\n",
    "\n",
    "# axial\n",
    "pylab.figure()\n",
    "pylab.imshow(p_axial, cmap=matplotlib.cm.gray, interpolation='nearest')\n",
    "\n",
    "# coronal\n",
    "pylab.figure()\n",
    "pylab.imshow(p_coronal, cmap=matplotlib.cm.gray, interpolation='nearest')\n",
    "\n",
    "# sagittal\n",
    "pylab.figure()\n",
    "pylab.imshow(p_sagittal, cmap=matplotlib.cm.gray, interpolation='nearest')"
   ]
  },
  {
   "cell_type": "code",
   "execution_count": 15,
   "metadata": {
    "collapsed": true
   },
   "outputs": [],
   "source": [
    "pylab.close('all')"
   ]
  },
  {
   "cell_type": "code",
   "execution_count": null,
   "metadata": {
    "collapsed": true
   },
   "outputs": [],
   "source": [
    ""
   ]
  }
 ],
 "metadata": {
  "kernelspec": {
   "display_name": "Python 2",
   "language": "python",
   "name": "python2"
  },
  "language_info": {
   "codemirror_mode": {
    "name": "ipython",
    "version": 2.0
   },
   "file_extension": ".py",
   "mimetype": "text/x-python",
   "name": "python",
   "nbconvert_exporter": "python",
   "pygments_lexer": "ipython2",
   "version": "2.7.10"
  }
 },
 "nbformat": 4,
 "nbformat_minor": 0
}